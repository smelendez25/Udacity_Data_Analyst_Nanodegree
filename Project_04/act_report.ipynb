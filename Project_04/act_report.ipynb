{
 "cells": [
  {
   "cell_type": "markdown",
   "metadata": {},
   "source": [
    "### Project 4 - Act Report - Twitter Data"
   ]
  },
  {
   "cell_type": "markdown",
   "metadata": {},
   "source": [
    "### Data Analysis\n",
    "\n",
    "The section below contains the clean version with 1985 rows and 23 columns.\n",
    "\n",
    "The master_file stats are listed below.\n",
    "\n",
    "![stats](stats.png)\n",
    "\n",
    "Only 8 quality issues were solved in the wrangle_act. It's important to highline the fact that some tweets has mores than 1 image, which is not normal.\n",
    "\n",
    "The chart below shows the correlation between favorites and retweets, which is high in this case.\n",
    "\n",
    "![scatterplot](scatterplot.png)\n",
    "\n",
    "The highest proportion of dogos type is \"Pupper\" with 69%.\n",
    "\n",
    "![pie_chart](pie_chart.png)\n",
    "\n",
    "The chart below, shows \"Labrador Retriever\" is the most popular dog breed.\n",
    "\n",
    "![top_10_breeds](top10.png)\n",
    "\n",
    "The chart below shows that \"Cooper\" is the most popular dog name.\n",
    "\n",
    "![dog_name](dog_name.png)"
   ]
  }
 ],
 "metadata": {
  "kernelspec": {
   "display_name": "Python 3",
   "language": "python",
   "name": "python3"
  },
  "language_info": {
   "codemirror_mode": {
    "name": "ipython",
    "version": 3
   },
   "file_extension": ".py",
   "mimetype": "text/x-python",
   "name": "python",
   "nbconvert_exporter": "python",
   "pygments_lexer": "ipython3",
   "version": "3.7.4"
  }
 },
 "nbformat": 4,
 "nbformat_minor": 2
}
